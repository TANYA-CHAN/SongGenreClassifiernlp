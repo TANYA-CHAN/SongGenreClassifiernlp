{
  "nbformat": 4,
  "nbformat_minor": 0,
  "metadata": {
    "colab": {
      "name": "CountVectorizer Model.ipynb",
      "provenance": [],
      "collapsed_sections": [],
      "authorship_tag": "ABX9TyN/GVezCfC2Vda6f16tfTpm",
      "include_colab_link": true
    },
    "kernelspec": {
      "name": "python3",
      "display_name": "Python 3"
    }
  },
  "cells": [
    {
      "cell_type": "markdown",
      "metadata": {
        "id": "view-in-github",
        "colab_type": "text"
      },
      "source": [
        "<a href=\"https://colab.research.google.com/github/KritikaIyer17/Song_Genre_Classifier/blob/master/CountVectorizer_Model.ipynb\" target=\"_parent\"><img src=\"https://colab.research.google.com/assets/colab-badge.svg\" alt=\"Open In Colab\"/></a>"
      ]
    },
    {
      "cell_type": "code",
      "metadata": {
        "id": "Atdme4eK-38r",
        "colab_type": "code",
        "colab": {}
      },
      "source": [
        "from google.colab import drive\n",
        "drive.mount('/content/drive')"
      ],
      "execution_count": null,
      "outputs": []
    },
    {
      "cell_type": "code",
      "metadata": {
        "id": "YlwIYR0gAHge",
        "colab_type": "code",
        "colab": {}
      },
      "source": [
        "import pandas as pd"
      ],
      "execution_count": null,
      "outputs": []
    },
    {
      "cell_type": "code",
      "metadata": {
        "id": "nA3lkLSz_YFI",
        "colab_type": "code",
        "colab": {}
      },
      "source": [
        "path1 = \"/content/drive/My Drive/data/lyrics1.csv\"\n",
        "df = pd.read_csv(path1)"
      ],
      "execution_count": null,
      "outputs": []
    },
    {
      "cell_type": "code",
      "metadata": {
        "id": "D0XCB-6qAb2A",
        "colab_type": "code",
        "colab": {}
      },
      "source": [
        "import numpy as np\n",
        "df['ranker_genre'] = np.where((df['ranker_genre'] == 'screamo')|(df['ranker_genre'] == 'punk rock')|(df['ranker_genre'] == 'heavy metal'),'alt rock',df['ranker_genre'])\n",
        "group = ['song', 'year', 'album', 'genre', 'artist', 'ranker_genre']\n",
        "lyrics_by_song = df.sort_values(group).groupby(group).lyric.apply(' '.join).apply(lambda x: x.lower()).reset_index(name='lyric')\n",
        "lyrics_by_song[\"lyric\"] = lyrics_by_song['lyric'].str.replace(r'[^\\w\\s]','')\n",
        "from sklearn.utils import shuffle\n",
        "from nltk.corpus import stopwords\n",
        "genres = ['Country','alt rock', 'Hip Hop','pop','rhythm and blues']\n",
        "LYRIC_LEN = 400\n",
        "N = 10000\n",
        "RANDOM_SEED = 200\n",
        "train_df = pd.DataFrame()\n",
        "test_df = pd.DataFrame()"
      ],
      "execution_count": null,
      "outputs": []
    },
    {
      "cell_type": "code",
      "metadata": {
        "id": "Ew1KfzlSAmY2",
        "colab_type": "code",
        "colab": {}
      },
      "source": [
        "for genre in genres:\n",
        "    subset = lyrics_by_song[(lyrics_by_song.ranker_genre == genre) & (lyrics_by_song.lyric.str.len() >= LYRIC_LEN)]\n",
        "    train_set = subset.sample(n=N, replace=True, random_state=RANDOM_SEED)\n",
        "    test_set = subset.drop(train_set.index)\n",
        "    train_df = train_df.append(train_set)\n",
        "    test_df = test_df.append(test_set)\n",
        "train_df = shuffle(train_df)\n",
        "test_df = shuffle(test_df)"
      ],
      "execution_count": null,
      "outputs": []
    },
    {
      "cell_type": "code",
      "metadata": {
        "id": "0YZXYzXlZSv0",
        "colab_type": "code",
        "colab": {}
      },
      "source": [
        "from sklearn.feature_extraction.text import CountVectorizer\n",
        "from sklearn.naive_bayes import MultinomialNB\n",
        "from sklearn.pipeline import Pipeline"
      ],
      "execution_count": null,
      "outputs": []
    },
    {
      "cell_type": "code",
      "metadata": {
        "id": "8-lWuqjVekFa",
        "colab_type": "code",
        "colab": {}
      },
      "source": [
        "text_clf = Pipeline([('vect', CountVectorizer()),('clf', MultinomialNB(alpha=0.1))])"
      ],
      "execution_count": null,
      "outputs": []
    },
    {
      "cell_type": "code",
      "metadata": {
        "id": "elewsdF8e3iv",
        "colab_type": "code",
        "colab": {}
      },
      "source": [
        "text_clf.fit(train_df.lyric, train_df.ranker_genre) "
      ],
      "execution_count": null,
      "outputs": []
    },
    {
      "cell_type": "code",
      "metadata": {
        "id": "Mi6mc_xie8sY",
        "colab_type": "code",
        "colab": {
          "base_uri": "https://localhost:8080/",
          "height": 34
        },
        "outputId": "882f323b-6a08-4249-f3e0-4f54721d8c88"
      },
      "source": [
        "predicted = text_clf.predict(test_df.lyric)\n",
        "np.mean(predicted == test_df.ranker_genre)"
      ],
      "execution_count": null,
      "outputs": [
        {
          "output_type": "execute_result",
          "data": {
            "text/plain": [
              "0.7572290341616943"
            ]
          },
          "metadata": {
            "tags": []
          },
          "execution_count": 9
        }
      ]
    }
  ]
}