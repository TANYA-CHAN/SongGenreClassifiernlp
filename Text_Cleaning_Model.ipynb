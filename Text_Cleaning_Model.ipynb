{
  "nbformat": 4,
  "nbformat_minor": 0,
  "metadata": {
    "colab": {
      "name": "Text Cleaning Model.ipynb",
      "provenance": [],
      "collapsed_sections": [],
      "authorship_tag": "ABX9TyNS8xIl23jMwONlQ28U+Y5L",
      "include_colab_link": true
    },
    "kernelspec": {
      "name": "python3",
      "display_name": "Python 3"
    }
  },
  "cells": [
    {
      "cell_type": "markdown",
      "metadata": {
        "id": "view-in-github",
        "colab_type": "text"
      },
      "source": [
        "<a href=\"https://colab.research.google.com/github/KritikaIyer17/Song_Genre_Classifier/blob/master/Text_Cleaning_Model.ipynb\" target=\"_parent\"><img src=\"https://colab.research.google.com/assets/colab-badge.svg\" alt=\"Open In Colab\"/></a>"
      ]
    },
    {
      "cell_type": "code",
      "metadata": {
        "id": "LDUM84zeauu6",
        "colab_type": "code",
        "colab": {}
      },
      "source": [
        "from google.colab import drive\n",
        "drive.mount('/content/drive')"
      ],
      "execution_count": null,
      "outputs": []
    },
    {
      "cell_type": "code",
      "metadata": {
        "id": "FXuBRKmqa1ZK",
        "colab_type": "code",
        "colab": {}
      },
      "source": [
        "import pandas as pd\n",
        "path1 = \"/content/drive/My Drive/data/lyrics1.csv\"\n",
        "df = pd.read_csv(path1)"
      ],
      "execution_count": null,
      "outputs": []
    },
    {
      "cell_type": "code",
      "metadata": {
        "id": "e8xX88kibAvT",
        "colab_type": "code",
        "colab": {}
      },
      "source": [
        "import numpy as np\n",
        "df['ranker_genre'] = np.where((df['ranker_genre'] == 'screamo')|(df['ranker_genre'] == 'punk rock')|(df['ranker_genre'] == 'heavy metal'),'alt rock',df['ranker_genre'])\n",
        "group = ['song', 'year', 'album', 'genre', 'artist', 'ranker_genre']\n",
        "lyrics_by_song = df.sort_values(group).groupby(group).lyric.apply(' '.join).apply(lambda x: x.lower()).reset_index(name='lyric')\n",
        "lyrics_by_song[\"lyric\"] = lyrics_by_song['lyric'].str.replace(r'[^\\w\\s]','')\n",
        "from sklearn.utils import shuffle\n",
        "from nltk.corpus import stopwords\n",
        "genres = ['Country','alt rock', 'Hip Hop','pop','rhythm and blues']\n",
        "LYRIC_LEN = 400\n",
        "N = 10000\n",
        "RANDOM_SEED = 200\n",
        "train_df = pd.DataFrame()\n",
        "test_df = pd.DataFrame()"
      ],
      "execution_count": null,
      "outputs": []
    },
    {
      "cell_type": "code",
      "metadata": {
        "id": "Z19xLClYbIxV",
        "colab_type": "code",
        "colab": {}
      },
      "source": [
        "for genre in genres:\n",
        "    subset = lyrics_by_song[(lyrics_by_song.ranker_genre == genre) & (lyrics_by_song.lyric.str.len() >= LYRIC_LEN)]\n",
        "    train_set = subset.sample(n=N, replace=True, random_state=RANDOM_SEED)\n",
        "    test_set = subset.drop(train_set.index)\n",
        "    train_df = train_df.append(train_set)\n",
        "    test_df = test_df.append(test_set)\n",
        "train_df = shuffle(train_df)\n",
        "test_df = shuffle(test_df)"
      ],
      "execution_count": null,
      "outputs": []
    },
    {
      "cell_type": "code",
      "metadata": {
        "id": "6bXPKCxUdCIM",
        "colab_type": "code",
        "colab": {}
      },
      "source": [
        "import nltk\n",
        "nltk.download('stopwords')\n",
        "nltk.download('punkt')\n",
        "nltk.download('wordnet')"
      ],
      "execution_count": null,
      "outputs": []
    },
    {
      "cell_type": "code",
      "metadata": {
        "id": "H7HI5yEWbKOA",
        "colab_type": "code",
        "colab": {}
      },
      "source": [
        "from sklearn.naive_bayes import MultinomialNB\n",
        "from sklearn.pipeline import Pipeline\n",
        "from nltk import word_tokenize\n",
        "from nltk.stem import WordNetLemmatizer\n",
        "from sklearn.feature_extraction.text import TfidfTransformer, TfidfVectorizer\n",
        "stop = list(set(stopwords.words('english')))\n",
        "wnl = WordNetLemmatizer()\n",
        "def tokenizer(x):\n",
        "  return (wnl.lemmatize(w) for w in word_tokenize(x) if len(w)>=2 and w.isalnum())\n",
        "text_clf = Pipeline([('vect', TfidfVectorizer(ngram_range=(1, 2),tokenizer=tokenizer,stop_words=stop,max_df=0.4,min_df=4)),('tfidf', TfidfTransformer()),('clf', MultinomialNB(alpha=0.1))])\n",
        "text_clf.fit(train_df.lyric, train_df.ranker_genre)"
      ],
      "execution_count": null,
      "outputs": []
    },
    {
      "cell_type": "code",
      "metadata": {
        "id": "_ifBHC8ujLdx",
        "colab_type": "code",
        "colab": {
          "base_uri": "https://localhost:8080/",
          "height": 34
        },
        "outputId": "e577378a-1d26-4505-bea0-8ae9664a61d0"
      },
      "source": [
        "predicted = text_clf.predict(test_df.lyric)\n",
        "np.mean(predicted == test_df.ranker_genre)"
      ],
      "execution_count": null,
      "outputs": [
        {
          "output_type": "execute_result",
          "data": {
            "text/plain": [
              "0.8338469608550259"
            ]
          },
          "metadata": {
            "tags": []
          },
          "execution_count": 16
        }
      ]
    }
  ]
}