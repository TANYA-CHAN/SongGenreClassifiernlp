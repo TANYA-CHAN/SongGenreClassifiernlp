{
  "nbformat": 4,
  "nbformat_minor": 0,
  "metadata": {
    "colab": {
      "name": "TF-IDF Model.ipynb",
      "provenance": [],
      "collapsed_sections": [],
      "authorship_tag": "ABX9TyMOvQ3XPxiriCZdryNuB6cj",
      "include_colab_link": true
    },
    "kernelspec": {
      "name": "python3",
      "display_name": "Python 3"
    }
  },
  "cells": [
    {
      "cell_type": "markdown",
      "metadata": {
        "id": "view-in-github",
        "colab_type": "text"
      },
      "source": [
        "<a href=\"https://colab.research.google.com/github/KritikaIyer17/Song_Genre_Classifier/blob/master/TF_IDF_Model.ipynb\" target=\"_parent\"><img src=\"https://colab.research.google.com/assets/colab-badge.svg\" alt=\"Open In Colab\"/></a>"
      ]
    },
    {
      "cell_type": "code",
      "metadata": {
        "id": "ClLYen9xZu-Q",
        "colab_type": "code",
        "colab": {}
      },
      "source": [
        "from google.colab import drive\n",
        "drive.mount('/content/drive')"
      ],
      "execution_count": null,
      "outputs": []
    },
    {
      "cell_type": "code",
      "metadata": {
        "id": "PJuJmjugZ_iq",
        "colab_type": "code",
        "colab": {}
      },
      "source": [
        "import pandas as pd\n",
        "path1 = \"/content/drive/My Drive/data/lyrics1.csv\"\n",
        "df = pd.read_csv(path1)"
      ],
      "execution_count": null,
      "outputs": []
    },
    {
      "cell_type": "code",
      "metadata": {
        "id": "JxnC4ii8aFt1",
        "colab_type": "code",
        "colab": {}
      },
      "source": [
        "import numpy as np\n",
        "df['ranker_genre'] = np.where((df['ranker_genre'] == 'screamo')|(df['ranker_genre'] == 'punk rock')|(df['ranker_genre'] == 'heavy metal'),'alt rock',df['ranker_genre'])\n",
        "group = ['song', 'year', 'album', 'genre', 'artist', 'ranker_genre']\n",
        "lyrics_by_song = df.sort_values(group).groupby(group).lyric.apply(' '.join).apply(lambda x: x.lower()).reset_index(name='lyric')\n",
        "lyrics_by_song[\"lyric\"] = lyrics_by_song['lyric'].str.replace(r'[^\\w\\s]','')\n",
        "from sklearn.utils import shuffle\n",
        "from nltk.corpus import stopwords\n",
        "genres = ['Country','alt rock', 'Hip Hop','pop','rhythm and blues']\n",
        "LYRIC_LEN = 400\n",
        "N = 10000\n",
        "RANDOM_SEED = 200\n",
        "train_df = pd.DataFrame()\n",
        "test_df = pd.DataFrame()"
      ],
      "execution_count": null,
      "outputs": []
    },
    {
      "cell_type": "code",
      "metadata": {
        "id": "L6rJ_GfTaHoR",
        "colab_type": "code",
        "colab": {}
      },
      "source": [
        "for genre in genres:\n",
        "    subset = lyrics_by_song[(lyrics_by_song.ranker_genre == genre) & (lyrics_by_song.lyric.str.len() >= LYRIC_LEN)]\n",
        "    train_set = subset.sample(n=N, replace=True, random_state=RANDOM_SEED)\n",
        "    test_set = subset.drop(train_set.index)\n",
        "    train_df = train_df.append(train_set)\n",
        "    test_df = test_df.append(test_set)\n",
        "train_df = shuffle(train_df)\n",
        "test_df = shuffle(test_df)"
      ],
      "execution_count": null,
      "outputs": []
    },
    {
      "cell_type": "code",
      "metadata": {
        "id": "lbc_SxQfaUxW",
        "colab_type": "code",
        "colab": {}
      },
      "source": [
        "from sklearn.naive_bayes import MultinomialNB\n",
        "from sklearn.pipeline import Pipeline\n",
        "from sklearn.feature_extraction.text import TfidfTransformer, TfidfVectorizer\n",
        "text_clf = Pipeline([('vect', TfidfVectorizer()),('clf', MultinomialNB(alpha=0.1))])\n",
        "text_clf.fit(train_df.lyric, train_df.ranker_genre)"
      ],
      "execution_count": null,
      "outputs": []
    },
    {
      "cell_type": "code",
      "metadata": {
        "id": "wOa2EqmDjC90",
        "colab_type": "code",
        "colab": {
          "base_uri": "https://localhost:8080/",
          "height": 34
        },
        "outputId": "e8306190-d075-44b0-f93c-22d1757cbb76"
      },
      "source": [
        "predicted = text_clf.predict(test_df.lyric)\n",
        "np.mean(predicted == test_df.ranker_genre)"
      ],
      "execution_count": null,
      "outputs": [
        {
          "output_type": "execute_result",
          "data": {
            "text/plain": [
              "0.7462461477935873"
            ]
          },
          "metadata": {
            "tags": []
          },
          "execution_count": 7
        }
      ]
    }
  ]
}